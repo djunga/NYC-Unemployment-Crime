{
 "cells": [
  {
   "cell_type": "markdown",
   "metadata": {},
   "source": [
    "### https://data.world/city-of-ny/jb7j-dtam"
   ]
  },
  {
   "cell_type": "markdown",
   "metadata": {},
   "source": [
    "### How do age and gender relate to the leading causes of death in NYC?"
   ]
  },
  {
   "cell_type": "code",
   "execution_count": 2,
   "metadata": {},
   "outputs": [],
   "source": [
    "import pandas as pd\n",
    "from matplotlib import pyplot as plt\n",
    "%matplotlib inline\n",
    "import seaborn as sns\n",
    "from IPython.display import display, HTML"
   ]
  },
  {
   "cell_type": "code",
   "execution_count": 3,
   "metadata": {},
   "outputs": [],
   "source": [
    "FILE_PATH = \"new-york-city-leading-causes-of-death-1.csv\"\n",
    "df = pd.read_csv(FILE_PATH)"
   ]
  },
  {
   "cell_type": "code",
   "execution_count": 4,
   "metadata": {},
   "outputs": [
    {
     "data": {
      "text/html": [
       "<div>\n",
       "<style scoped>\n",
       "    .dataframe tbody tr th:only-of-type {\n",
       "        vertical-align: middle;\n",
       "    }\n",
       "\n",
       "    .dataframe tbody tr th {\n",
       "        vertical-align: top;\n",
       "    }\n",
       "\n",
       "    .dataframe thead th {\n",
       "        text-align: right;\n",
       "    }\n",
       "</style>\n",
       "<table border=\"1\" class=\"dataframe\">\n",
       "  <thead>\n",
       "    <tr style=\"text-align: right;\">\n",
       "      <th></th>\n",
       "      <th>Year</th>\n",
       "      <th>Leading Cause</th>\n",
       "      <th>Sex</th>\n",
       "      <th>Race Ethnicity</th>\n",
       "      <th>Deaths</th>\n",
       "      <th>Death Rate</th>\n",
       "      <th>Age Adjusted Death Rate</th>\n",
       "    </tr>\n",
       "  </thead>\n",
       "  <tbody>\n",
       "    <tr>\n",
       "      <th>0</th>\n",
       "      <td>2010</td>\n",
       "      <td>Assault (Homicide: Y87.1, X85-Y09)</td>\n",
       "      <td>M</td>\n",
       "      <td>Black Non-Hispanic</td>\n",
       "      <td>299</td>\n",
       "      <td>35.1</td>\n",
       "      <td>35.5</td>\n",
       "    </tr>\n",
       "    <tr>\n",
       "      <th>1</th>\n",
       "      <td>2011</td>\n",
       "      <td>Mental and Behavioral Disorders due to Acciden...</td>\n",
       "      <td>M</td>\n",
       "      <td>Not Stated/Unknown</td>\n",
       "      <td>5</td>\n",
       "      <td>.</td>\n",
       "      <td>.</td>\n",
       "    </tr>\n",
       "    <tr>\n",
       "      <th>2</th>\n",
       "      <td>2011</td>\n",
       "      <td>Diseases of Heart (I00-I09, I11, I13, I20-I51)</td>\n",
       "      <td>M</td>\n",
       "      <td>Black Non-Hispanic</td>\n",
       "      <td>1840</td>\n",
       "      <td>215.7</td>\n",
       "      <td>268.3</td>\n",
       "    </tr>\n",
       "    <tr>\n",
       "      <th>3</th>\n",
       "      <td>2008</td>\n",
       "      <td>Certain Conditions originating in the Perinata...</td>\n",
       "      <td>F</td>\n",
       "      <td>Other Race/ Ethnicity</td>\n",
       "      <td>.</td>\n",
       "      <td>.</td>\n",
       "      <td>.</td>\n",
       "    </tr>\n",
       "    <tr>\n",
       "      <th>4</th>\n",
       "      <td>2014</td>\n",
       "      <td>Accidents Except Drug Posioning (V01-X39, X43,...</td>\n",
       "      <td>F</td>\n",
       "      <td>Hispanic</td>\n",
       "      <td>64</td>\n",
       "      <td>5.1</td>\n",
       "      <td>5.4</td>\n",
       "    </tr>\n",
       "  </tbody>\n",
       "</table>\n",
       "</div>"
      ],
      "text/plain": [
       "   Year                                      Leading Cause Sex  \\\n",
       "0  2010                 Assault (Homicide: Y87.1, X85-Y09)   M   \n",
       "1  2011  Mental and Behavioral Disorders due to Acciden...   M   \n",
       "2  2011     Diseases of Heart (I00-I09, I11, I13, I20-I51)   M   \n",
       "3  2008  Certain Conditions originating in the Perinata...   F   \n",
       "4  2014  Accidents Except Drug Posioning (V01-X39, X43,...   F   \n",
       "\n",
       "          Race Ethnicity Deaths Death Rate Age Adjusted Death Rate  \n",
       "0     Black Non-Hispanic    299       35.1                    35.5  \n",
       "1     Not Stated/Unknown      5          .                       .  \n",
       "2     Black Non-Hispanic   1840      215.7                   268.3  \n",
       "3  Other Race/ Ethnicity      .          .                       .  \n",
       "4               Hispanic     64        5.1                     5.4  "
      ]
     },
     "execution_count": 4,
     "metadata": {},
     "output_type": "execute_result"
    }
   ],
   "source": [
    "df.head()"
   ]
  },
  {
   "cell_type": "code",
   "execution_count": 7,
   "metadata": {},
   "outputs": [
    {
     "data": {
      "text/plain": [
       "Index(['Year', 'Leading Cause', 'Sex', 'Race Ethnicity', 'Deaths',\n",
       "       'Death Rate', 'Age Adjusted Death Rate'],\n",
       "      dtype='object')"
      ]
     },
     "execution_count": 7,
     "metadata": {},
     "output_type": "execute_result"
    }
   ],
   "source": [
    "df.columns"
   ]
  },
  {
   "cell_type": "code",
   "execution_count": 8,
   "metadata": {},
   "outputs": [
    {
     "data": {
      "text/plain": [
       "(1094, 7)"
      ]
     },
     "execution_count": 8,
     "metadata": {},
     "output_type": "execute_result"
    }
   ],
   "source": [
    "df.shape"
   ]
  },
  {
   "cell_type": "code",
   "execution_count": 15,
   "metadata": {},
   "outputs": [
    {
     "data": {
      "text/plain": [
       "array(['Black Non-Hispanic', 'Not Stated/Unknown',\n",
       "       'Other Race/ Ethnicity', 'Hispanic', 'Asian and Pacific Islander',\n",
       "       'White Non-Hispanic'], dtype=object)"
      ]
     },
     "execution_count": 15,
     "metadata": {},
     "output_type": "execute_result"
    }
   ],
   "source": [
    "df[\"Race Ethnicity\"].unique()"
   ]
  },
  {
   "cell_type": "code",
   "execution_count": 16,
   "metadata": {},
   "outputs": [
    {
     "data": {
      "text/plain": [
       "array(['Assault (Homicide: Y87.1, X85-Y09)',\n",
       "       'Mental and Behavioral Disorders due to Accidental Poisoning and Other Psychoactive Substance Use (F11-F16, F18-F19, X40-X42, X44)',\n",
       "       'Diseases of Heart (I00-I09, I11, I13, I20-I51)',\n",
       "       'Certain Conditions originating in the Perinatal Period (P00-P96)',\n",
       "       'Accidents Except Drug Posioning (V01-X39, X43, X45-X59, Y85-Y86)',\n",
       "       'Intentional Self-Harm (Suicide: X60-X84, Y87.0)',\n",
       "       'All Other Causes', 'Septicemia (A40-A41)',\n",
       "       'Essential Hypertension and Renal Diseases (I10, I12)',\n",
       "       'Diabetes Mellitus (E10-E14)',\n",
       "       'Influenza (Flu) and Pneumonia (J09-J18)',\n",
       "       'Cerebrovascular Disease (Stroke: I60-I69)',\n",
       "       'Chronic Lower Respiratory Diseases (J40-J47)',\n",
       "       'Human Immunodeficiency Virus Disease (HIV: B20-B24)',\n",
       "       'Malignant Neoplasms (Cancer: C00-C97)',\n",
       "       'Chronic Liver Disease and Cirrhosis (K70, K73)',\n",
       "       \"Alzheimer's Disease (G30)\", 'Viral Hepatitis (B15-B19)',\n",
       "       'Nephritis, Nephrotic Syndrome and Nephrisis (N00-N07, N17-N19, N25-N27)',\n",
       "       'Mental and Behavioral Disorders due to Use of Alcohol (F10)',\n",
       "       \"Parkinson's Disease (G20)\",\n",
       "       'Congenital Malformations, Deformations, and Chromosomal Abnormalities (Q00-Q99)',\n",
       "       'Atherosclerosis (I70)', 'Tuberculosis (A16-A19)',\n",
       "       'Aortic Aneurysm and Dissection (I71)',\n",
       "       'Insitu or Benign / Uncertain Neoplasms (D00-D48)'], dtype=object)"
      ]
     },
     "execution_count": 16,
     "metadata": {},
     "output_type": "execute_result"
    }
   ],
   "source": [
    "df['Leading Cause'].unique()"
   ]
  },
  {
   "cell_type": "markdown",
   "metadata": {},
   "source": [
    "### We can see there's an Year column. What is its range? "
   ]
  },
  {
   "cell_type": "code",
   "execution_count": 20,
   "metadata": {},
   "outputs": [
    {
     "name": "stdout",
     "output_type": "stream",
     "text": [
      "2007 to 2014\n"
     ]
    }
   ],
   "source": [
    "print(df.Year.min(), \"to\", df.Year.max())"
   ]
  },
  {
   "cell_type": "markdown",
   "metadata": {},
   "source": []
  }
 ],
 "metadata": {
  "kernelspec": {
   "display_name": "Python 3",
   "language": "python",
   "name": "python3"
  },
  "language_info": {
   "codemirror_mode": {
    "name": "ipython",
    "version": 3
   },
   "file_extension": ".py",
   "mimetype": "text/x-python",
   "name": "python",
   "nbconvert_exporter": "python",
   "pygments_lexer": "ipython3",
   "version": "3.7.3"
  }
 },
 "nbformat": 4,
 "nbformat_minor": 2
}
